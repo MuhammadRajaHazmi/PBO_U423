{
  "nbformat": 4,
  "nbformat_minor": 0,
  "metadata": {
    "colab": {
      "provenance": [],
      "authorship_tag": "ABX9TyO9o+0PHPpBiPGLWKWvShO4",
      "include_colab_link": true
    },
    "kernelspec": {
      "name": "python3",
      "display_name": "Python 3"
    },
    "language_info": {
      "name": "python"
    }
  },
  "cells": [
    {
      "cell_type": "markdown",
      "metadata": {
        "id": "view-in-github",
        "colab_type": "text"
      },
      "source": [
        "<a href=\"https://colab.research.google.com/github/MuhammadRajaHazmi/PBO_U423/blob/main/Tugas2_PBO.ipynb\" target=\"_parent\"><img src=\"https://colab.research.google.com/assets/colab-badge.svg\" alt=\"Open In Colab\"/></a>"
      ]
    },
    {
      "cell_type": "code",
      "execution_count": 3,
      "metadata": {
        "colab": {
          "base_uri": "https://localhost:8080/"
        },
        "id": "FK6sOeOq3yHM",
        "outputId": "85791754-a5b0-4aaf-98c9-608dde7caa70"
      },
      "outputs": [
        {
          "output_type": "stream",
          "name": "stdout",
          "text": [
            "Mahasiswa Budi (12345678) dari jurusan Teknik Informatika mencetak KRS dengan mata kuliah:\n",
            "Pemrograman Berorientasi Objek\n",
            "Struktur Data\n",
            "Jaringan Komputer\n",
            "Mata Kuliah: Pemrograman Berorientasi Objek (TI204), 3 SKS\n",
            "Dosen Dr. Andi (NIP: 1987654321) mengajar di bidang Kecerdasan Buatan.\n",
            "Laptop Asus dengan prosesor Intel i7 dan RAM 16GB.\n",
            "Asisten Lab Siti bertugas membantu praktikum Struktur Data.\n"
          ]
        }
      ],
      "source": [
        "# Mahasiswa.py\n",
        "class Mahasiswa:\n",
        "    def __init__(self, nama: str, nim: str, jurusan: str, mata_kuliah: list):\n",
        "        self.nama = nama\n",
        "        self.nim = nim\n",
        "        self.jurusan = jurusan\n",
        "        self.mata_kuliah = mata_kuliah\n",
        "\n",
        "    def cetak_krs(self) -> str:\n",
        "        daftar_matkul = \"\\n\".join(self.mata_kuliah)\n",
        "        return f\"Mahasiswa {self.nama} ({self.nim}) dari jurusan {self.jurusan} mencetak KRS dengan mata kuliah:\\n{daftar_matkul}\"\n",
        "\n",
        "# Objek\n",
        "mhs = Mahasiswa(\"Budi\", \"12345678\", \"Teknik Informatika\", [\"Pemrograman Berorientasi Objek\", \"Struktur Data\", \"Jaringan Komputer\"])\n",
        "print(mhs.cetak_krs())\n",
        "\n",
        "# MataKuliah.py\n",
        "class MataKuliah:\n",
        "    def __init__(self, kode: str, nama: str, sks: int):\n",
        "        self.kode = kode\n",
        "        self.nama = nama\n",
        "        self.sks = sks\n",
        "\n",
        "    def info(self) -> str:\n",
        "        return f\"Mata Kuliah: {self.nama} ({self.kode}), {self.sks} SKS\"\n",
        "\n",
        "# Objek\n",
        "mk = MataKuliah(\"TI204\", \"Pemrograman Berorientasi Objek\", 3)\n",
        "print(mk.info())\n",
        "\n",
        "# Dosen.py\n",
        "class Dosen:\n",
        "    def __init__(self, nama: str, nip: str, bidang: str):\n",
        "        self.nama = nama\n",
        "        self.nip = nip\n",
        "        self.bidang = bidang\n",
        "\n",
        "    def mengajar(self) -> str:\n",
        "        return f\"Dosen {self.nama} (NIP: {self.nip}) mengajar di bidang {self.bidang}.\"\n",
        "\n",
        "# Objek\n",
        "dosen1 = Dosen(\"Dr. Andi\", \"1987654321\", \"Kecerdasan Buatan\")\n",
        "print(dosen1.mengajar())\n",
        "\n",
        "# Laptop.py\n",
        "class Laptop:\n",
        "    def __init__(self, merek: str, prosesor: str, ram: int):\n",
        "        self.merek = merek\n",
        "        self.prosesor = prosesor\n",
        "        self.ram = ram\n",
        "\n",
        "    def spesifikasi(self) -> str:\n",
        "        return f\"Laptop {self.merek} dengan prosesor {self.prosesor} dan RAM {self.ram}GB.\"\n",
        "\n",
        "# Objek\n",
        "laptop1 = Laptop(\"Asus\", \"Intel i7\", 16)\n",
        "print(laptop1.spesifikasi())\n",
        "\n",
        "# AsistenLab.py\n",
        "class AsistenLab:\n",
        "    def __init__(self, nama: str, matkul: str):\n",
        "        self.nama = nama\n",
        "        self.matkul = matkul\n",
        "\n",
        "    def tugas(self) -> str:\n",
        "        return f\"Asisten Lab {self.nama} bertugas membantu praktikum {self.matkul}.\"\n",
        "\n",
        "# Objek\n",
        "aslab1 = AsistenLab(\"Siti\", \"Struktur Data\")\n",
        "print(aslab1.tugas())\n"
      ]
    }
  ]
}